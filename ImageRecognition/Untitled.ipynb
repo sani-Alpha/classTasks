{
 "cells": [
  {
   "cell_type": "code",
   "execution_count": 1,
   "metadata": {},
   "outputs": [],
   "source": [
    "import cv2\n",
    "import numpy as np"
   ]
  },
  {
   "cell_type": "code",
   "execution_count": 18,
   "metadata": {},
   "outputs": [],
   "source": [
    "face=cv2.CascadeClassifier('face.xml')\n",
    "image=cv2.imread(\"face.jpg\",1)\n"
   ]
  },
  {
   "cell_type": "code",
   "execution_count": 19,
   "metadata": {},
   "outputs": [
    {
     "name": "stdout",
     "output_type": "stream",
     "text": [
      "[[[ 23  23  23]\n",
      "  [ 17  17  17]\n",
      "  [  8   8   8]\n",
      "  ...\n",
      "  [ 33  44  74]\n",
      "  [ 38  49  79]\n",
      "  [ 38  49  79]]\n",
      "\n",
      " [[ 10  10  10]\n",
      "  [  8   8   8]\n",
      "  [  6   6   6]\n",
      "  ...\n",
      "  [ 41  52  82]\n",
      "  [ 42  53  83]\n",
      "  [ 34  45  75]]\n",
      "\n",
      " [[ 11  11  11]\n",
      "  [  6   6   6]\n",
      "  [  5   5   5]\n",
      "  ...\n",
      "  [ 39  50  78]\n",
      "  [ 41  52  80]\n",
      "  [ 36  47  75]]\n",
      "\n",
      " ...\n",
      "\n",
      " [[  0   7   2]\n",
      "  [ 10  17  12]\n",
      "  [ 14  21  16]\n",
      "  ...\n",
      "  [ 92 117 119]\n",
      "  [ 92 118 118]\n",
      "  [ 95 122 119]]\n",
      "\n",
      " [[  2   9   6]\n",
      "  [ 16  23  20]\n",
      "  [ 19  26  23]\n",
      "  ...\n",
      "  [ 90 115 117]\n",
      "  [ 87 113 113]\n",
      "  [ 90 116 116]]\n",
      "\n",
      " [[  1   8   3]\n",
      "  [ 22  29  24]\n",
      "  [ 25  32  27]\n",
      "  ...\n",
      "  [ 91 117 117]\n",
      "  [ 75 101 101]\n",
      "  [ 82 109 106]]]\n"
     ]
    }
   ],
   "source": [
    "print(image)"
   ]
  },
  {
   "cell_type": "code",
   "execution_count": 20,
   "metadata": {},
   "outputs": [],
   "source": [
    "cv2.imshow('all',image)\n",
    "cv2.waitKey(0)\n",
    "cv2.destroyAllWindows()"
   ]
  },
  {
   "cell_type": "code",
   "execution_count": 24,
   "metadata": {},
   "outputs": [
    {
     "ename": "error",
     "evalue": "OpenCV(4.1.0) C:\\projects\\opencv-python\\opencv\\modules\\objdetect\\src\\cascadedetect.cpp:1658: error: (-215:Assertion failed) !empty() in function 'cv::CascadeClassifier::detectMultiScale'\n",
     "output_type": "error",
     "traceback": [
      "\u001b[1;31m---------------------------------------------------------------------------\u001b[0m",
      "\u001b[1;31merror\u001b[0m                                     Traceback (most recent call last)",
      "\u001b[1;32m<ipython-input-24-e3fefd6f1603>\u001b[0m in \u001b[0;36m<module>\u001b[1;34m\u001b[0m\n\u001b[1;32m----> 1\u001b[1;33m \u001b[0mface_only\u001b[0m\u001b[1;33m=\u001b[0m\u001b[0mface\u001b[0m\u001b[1;33m.\u001b[0m\u001b[0mdetectMultiScale\u001b[0m\u001b[1;33m(\u001b[0m\u001b[0mimage\u001b[0m\u001b[1;33m,\u001b[0m\u001b[1;36m1.15\u001b[0m\u001b[1;33m,\u001b[0m\u001b[1;36m5\u001b[0m\u001b[1;33m)\u001b[0m\u001b[1;33m\u001b[0m\u001b[0m\n\u001b[0m",
      "\u001b[1;31merror\u001b[0m: OpenCV(4.1.0) C:\\projects\\opencv-python\\opencv\\modules\\objdetect\\src\\cascadedetect.cpp:1658: error: (-215:Assertion failed) !empty() in function 'cv::CascadeClassifier::detectMultiScale'\n"
     ]
    }
   ],
   "source": [
    "face_only=face.detectMultiScale(image,1.15,5)"
   ]
  },
  {
   "cell_type": "code",
   "execution_count": 25,
   "metadata": {},
   "outputs": [
    {
     "ename": "NameError",
     "evalue": "name 'face_only' is not defined",
     "output_type": "error",
     "traceback": [
      "\u001b[1;31m---------------------------------------------------------------------------\u001b[0m",
      "\u001b[1;31mNameError\u001b[0m                                 Traceback (most recent call last)",
      "\u001b[1;32m<ipython-input-25-bd79cade9c20>\u001b[0m in \u001b[0;36m<module>\u001b[1;34m\u001b[0m\n\u001b[1;32m----> 1\u001b[1;33m \u001b[0mprint\u001b[0m\u001b[1;33m(\u001b[0m\u001b[0mface_only\u001b[0m\u001b[1;33m)\u001b[0m\u001b[1;33m\u001b[0m\u001b[0m\n\u001b[0m",
      "\u001b[1;31mNameError\u001b[0m: name 'face_only' is not defined"
     ]
    }
   ],
   "source": [
    "print(face_only)"
   ]
  },
  {
   "cell_type": "code",
   "execution_count": null,
   "metadata": {},
   "outputs": [],
   "source": [
    "for x,w,y,h in face_only:\n",
    "    cv2.rectangle(image,(x,y),(x+w,y+h),(0,0,255),2)\n",
    "    cv2.imshow(\"facedetect, fram\")"
   ]
  }
 ],
 "metadata": {
  "kernelspec": {
   "display_name": "Python 3",
   "language": "python",
   "name": "python3"
  },
  "language_info": {
   "codemirror_mode": {
    "name": "ipython",
    "version": 3
   },
   "file_extension": ".py",
   "mimetype": "text/x-python",
   "name": "python",
   "nbconvert_exporter": "python",
   "pygments_lexer": "ipython3",
   "version": "3.6.2"
  }
 },
 "nbformat": 4,
 "nbformat_minor": 2
}
